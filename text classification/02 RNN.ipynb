{
 "cells": [
  {
   "cell_type": "markdown",
   "metadata": {},
   "source": [
    "# text classification step 2: RNN"
   ]
  },
  {
   "cell_type": "code",
   "execution_count": 1,
   "metadata": {},
   "outputs": [],
   "source": [
    "import pandas as pd\n",
    "\n",
    "data = pd.read_csv('IMDB Dataset.csv')"
   ]
  },
  {
   "cell_type": "code",
   "execution_count": 2,
   "metadata": {},
   "outputs": [],
   "source": [
    "from tqdm import tqdm\n",
    "import nltk\n",
    "\n",
    "from nltk.stem import WordNetLemmatizer\n",
    "# nltk.download()\n",
    "lemmatizer = WordNetLemmatizer()\n",
    "\n",
    "import re, spacy\n",
    "nlp = spacy.load('en_core_web_md')"
   ]
  },
  {
   "cell_type": "code",
   "execution_count": 3,
   "metadata": {},
   "outputs": [
    {
     "name": "stderr",
     "output_type": "stream",
     "text": [
      "100%|██████████| 50000/50000 [01:32<00:00, 542.19it/s]"
     ]
    },
    {
     "name": "stdout",
     "output_type": "stream",
     "text": [
      "[1, 2, 3, 4, 5, 6, 7, 8, 9, 10, 11, 12, 13, 14, 15, 16, 17, 18, 19, 20, 21, 22, 23, 24, 25, 26, 27, 28, 29, 30, 31, 32, 33, 8, 34, 35, 36, 13, 37, 38, 39, 40, 41, 42, 2, 43, 23, 44, 45, 46, 22, 47, 3, 48, 49, 19, 50, 35, 23, 25, 26, 51, 24, 52, 53, 3, 54, 55, 56, 57, 19, 25, 52, 58, 59, 60, 30, 61, 62, 63, 23, 64, 56, 43, 19, 38, 26, 65, 23, 46, 3, 66, 67, 2, 3, 68, 26, 69, 13, 24] 1\n"
     ]
    },
    {
     "name": "stderr",
     "output_type": "stream",
     "text": [
      "\n"
     ]
    }
   ],
   "source": [
    "processed_review = []\n",
    "sentiment = []\n",
    "word2id = {'<PAD>':0}\n",
    "vocab = set(['<PAD>'])\n",
    "count = 1\n",
    "SEQ_LEN = 100\n",
    "\n",
    "for i in tqdm(range(len(data))):\n",
    "    text = data.review[i].lower()\n",
    "    text = re.sub('<.+?>', '', text)\n",
    "    text = re.sub('[<>]', '', text)\n",
    "    text = [lemmatizer.lemmatize(token.text) for token in nlp.tokenizer(text)][:SEQ_LEN]\n",
    "\n",
    "    tmp = [0] * (SEQ_LEN - len(text)) if len(text) < SEQ_LEN else []\n",
    "        \n",
    "    for word in text:\n",
    "        if word not in vocab:\n",
    "            vocab.add(word)\n",
    "            word2id[word] = count\n",
    "            tmp.append(count)\n",
    "            count += 1\n",
    "        else:\n",
    "            tmp.append(word2id[word])\n",
    "\n",
    "    processed_review.append(tmp)\n",
    "    \n",
    "    if data.sentiment[i] == 'positive':\n",
    "        sentiment.append(1)\n",
    "    elif data.sentiment[i] == 'negative':\n",
    "        sentiment.append(0)\n",
    "    \n",
    "print(processed_review[0], sentiment[0])"
   ]
  },
  {
   "cell_type": "code",
   "execution_count": 4,
   "metadata": {},
   "outputs": [],
   "source": [
    "from sklearn.model_selection import train_test_split\n",
    "\n",
    "X_train, X_test, y_train, y_test = train_test_split(processed_review, sentiment, train_size=0.8, random_state=1988)"
   ]
  },
  {
   "cell_type": "code",
   "execution_count": 5,
   "metadata": {},
   "outputs": [],
   "source": [
    "from torch.utils.data import TensorDataset, DataLoader\n",
    "import torch\n",
    "\n",
    "BATCH_SIZE = 64\n",
    "\n",
    "train_ds = TensorDataset(torch.as_tensor(X_train), torch.as_tensor(y_train))\n",
    "test_ds = TensorDataset(torch.as_tensor(X_test), torch.as_tensor(y_test))\n",
    "\n",
    "train_iter = DataLoader(train_ds, batch_size=BATCH_SIZE, drop_last=True) # (BATCH_SIZE, SEQ_LEN)\n",
    "test_iter = DataLoader(test_ds, batch_size=BATCH_SIZE, drop_last=True)"
   ]
  },
  {
   "cell_type": "markdown",
   "metadata": {},
   "source": [
    "# 原始 RNN\n",
    "https://github.com/bentrevett/pytorch-sentiment-analysis/blob/master/1%20-%20Simple%20Sentiment%20Analysis.ipynb"
   ]
  },
  {
   "cell_type": "code",
   "execution_count": 6,
   "metadata": {},
   "outputs": [],
   "source": [
    "from torch import nn, optim\n",
    "from torch.nn import functional as F\n",
    "\n",
    "class RNN(nn.Module):\n",
    "    def __init__(self, vocab_size, embed_dim, hidden_dim):\n",
    "        super(RNN, self).__init__()\n",
    "        \n",
    "        self.embedding = nn.Embedding(vocab_size, embed_dim) # (BATCH_SIZE, SEQ_LEN, EMBED_DIM)\n",
    "        self.rnn = nn.RNN(embed_dim, hidden_dim, batch_first=True)\n",
    "        self.fc = nn.Linear(hidden_dim, 1)\n",
    "\n",
    "    def forward(self, x):\n",
    "        x = self.embedding(x)\n",
    "\n",
    "        output, hidden = self.rnn(x)\n",
    "        # output: (BATCH_SIZE, SEQ_LENGTH, HIDDEN_DIM)\n",
    "        # hidden: (1, BATCH_SIZE, HIDDEN_DIM)\n",
    "    \n",
    "        return self.fc(hidden.squeeze(0))"
   ]
  },
  {
   "cell_type": "code",
   "execution_count": 7,
   "metadata": {},
   "outputs": [],
   "source": [
    "EMBED_DIM = 128\n",
    "HIDDEN_DIM = 256\n",
    "rnn = RNN(len(vocab), EMBED_DIM, HIDDEN_DIM)"
   ]
  },
  {
   "cell_type": "code",
   "execution_count": 8,
   "metadata": {},
   "outputs": [
    {
     "data": {
      "text/plain": [
       "RNN(\n",
       "  (embedding): Embedding(90171, 128)\n",
       "  (rnn): RNN(128, 256, batch_first=True)\n",
       "  (fc): Linear(in_features=256, out_features=1, bias=True)\n",
       ")"
      ]
     },
     "execution_count": 8,
     "metadata": {},
     "output_type": "execute_result"
    }
   ],
   "source": [
    "rnn"
   ]
  },
  {
   "cell_type": "code",
   "execution_count": 9,
   "metadata": {},
   "outputs": [],
   "source": [
    "from torch import optim\n",
    "\n",
    "optimizer = optim.Adam(rnn.parameters())\n",
    "criterion = nn.BCEWithLogitsLoss()"
   ]
  },
  {
   "cell_type": "code",
   "execution_count": 10,
   "metadata": {},
   "outputs": [],
   "source": [
    "def binary_accuracy(preds, y):\n",
    "    rounded_preds = torch.round(torch.sigmoid(preds))\n",
    "    correct = (rounded_preds == y).float()\n",
    "    acc = correct.sum() / len(correct)\n",
    "    return acc"
   ]
  },
  {
   "cell_type": "code",
   "execution_count": 11,
   "metadata": {},
   "outputs": [],
   "source": [
    "def train(model, iterator, optimizer, criterion):\n",
    "    epoch_loss = 0\n",
    "    epoch_acc = 0\n",
    "    \n",
    "    model.train()\n",
    "    \n",
    "    for text, label in iterator:\n",
    "        optimizer.zero_grad()\n",
    "        preds = model(text)\n",
    "        loss = criterion(preds.squeeze(), label.float())\n",
    "        acc = binary_accuracy(preds.squeeze(), label)\n",
    "        loss.backward()\n",
    "        optimizer.step()\n",
    "        \n",
    "        epoch_loss += loss.item()\n",
    "        epoch_acc += acc.item()\n",
    "        \n",
    "    return epoch_loss / len(iterator), epoch_acc / len(iterator)"
   ]
  },
  {
   "cell_type": "code",
   "execution_count": 12,
   "metadata": {},
   "outputs": [],
   "source": [
    "def evaluate(model, iterator, criterion):\n",
    "    epoch_loss = 0\n",
    "    epoch_acc = 0\n",
    "    \n",
    "    model.eval()\n",
    "    \n",
    "    with torch.no_grad():\n",
    "        for text, label in iterator:\n",
    "            preds = model(text)\n",
    "            loss = criterion(preds.squeeze(), label.float())\n",
    "            acc = binary_accuracy(preds.squeeze(), label)\n",
    "\n",
    "            epoch_loss += loss.item()\n",
    "            epoch_acc += acc.item()\n",
    "\n",
    "    return epoch_loss / len(iterator), epoch_acc / len(iterator)"
   ]
  },
  {
   "cell_type": "code",
   "execution_count": 13,
   "metadata": {},
   "outputs": [],
   "source": [
    "import time\n",
    "\n",
    "def epoch_time(start_time, end_time):\n",
    "    elapsed_time = end_time - start_time\n",
    "    elapsed_mins = int(elapsed_time / 60)\n",
    "    elapsed_secs = int(elapsed_time - elapsed_mins * 60)\n",
    "    return elapsed_mins, elapsed_secs"
   ]
  },
  {
   "cell_type": "code",
   "execution_count": 14,
   "metadata": {},
   "outputs": [
    {
     "name": "stdout",
     "output_type": "stream",
     "text": [
      "Epoch: 01 | Epoch Time: 1m 32s\n",
      "\tTrain Loss: 0.696 | Train Acc: 52.09%\n",
      "\t Val. Loss: 0.695 |  Val. Acc: 49.73%\n",
      "Epoch: 02 | Epoch Time: 1m 26s\n",
      "\tTrain Loss: 0.686 | Train Acc: 54.62%\n",
      "\t Val. Loss: 0.693 |  Val. Acc: 52.33%\n",
      "Epoch: 03 | Epoch Time: 1m 49s\n",
      "\tTrain Loss: 0.680 | Train Acc: 56.83%\n",
      "\t Val. Loss: 0.743 |  Val. Acc: 51.34%\n",
      "Epoch: 04 | Epoch Time: 2m 23s\n",
      "\tTrain Loss: 0.665 | Train Acc: 59.50%\n",
      "\t Val. Loss: 0.671 |  Val. Acc: 58.48%\n",
      "Epoch: 05 | Epoch Time: 1m 55s\n",
      "\tTrain Loss: 0.630 | Train Acc: 64.92%\n",
      "\t Val. Loss: 0.644 |  Val. Acc: 64.52%\n",
      "Epoch: 06 | Epoch Time: 1m 39s\n",
      "\tTrain Loss: 0.603 | Train Acc: 67.90%\n",
      "\t Val. Loss: 0.653 |  Val. Acc: 59.77%\n",
      "Epoch: 07 | Epoch Time: 2m 14s\n",
      "\tTrain Loss: 0.600 | Train Acc: 67.66%\n",
      "\t Val. Loss: 0.620 |  Val. Acc: 68.79%\n",
      "Epoch: 08 | Epoch Time: 1m 14s\n",
      "\tTrain Loss: 0.517 | Train Acc: 74.98%\n",
      "\t Val. Loss: 0.590 |  Val. Acc: 70.31%\n",
      "Epoch: 09 | Epoch Time: 1m 12s\n",
      "\tTrain Loss: 0.556 | Train Acc: 71.42%\n",
      "\t Val. Loss: 0.667 |  Val. Acc: 60.61%\n",
      "Epoch: 10 | Epoch Time: 1m 8s\n",
      "\tTrain Loss: 0.590 | Train Acc: 68.58%\n",
      "\t Val. Loss: 0.682 |  Val. Acc: 61.32%\n"
     ]
    }
   ],
   "source": [
    "N_EPOCHS = 10\n",
    "\n",
    "best_test_loss = float('inf')\n",
    "\n",
    "for epoch in range(N_EPOCHS):\n",
    "    start_time = time.time()\n",
    "    \n",
    "    train_loss, train_acc = train(rnn, train_iter, optimizer, criterion)\n",
    "    test_loss, test_acc = evaluate(rnn, test_iter, criterion)\n",
    "    \n",
    "    end_time = time.time()\n",
    "    \n",
    "    epoch_mins, epoch_secs = epoch_time(start_time, end_time)\n",
    "    \n",
    "    if test_loss < best_test_loss:\n",
    "        best_test_loss = test_loss\n",
    "        torch.save(rnn.state_dict(), 'RNN-model.pt')\n",
    "    \n",
    "    print(f'Epoch: {epoch+1:02} | Epoch Time: {epoch_mins}m {epoch_secs}s')\n",
    "    print(f'\\tTrain Loss: {train_loss:.3f} | Train Acc: {train_acc*100:.2f}%')\n",
    "    print(f'\\t Val. Loss: {test_loss:.3f} |  Val. Acc: {test_acc*100:.2f}%')"
   ]
  },
  {
   "cell_type": "markdown",
   "metadata": {},
   "source": [
    "# 改进 RNN\n",
    "https://github.com/bentrevett/pytorch-sentiment-analysis/blob/master/2%20-%20Upgraded%20Sentiment%20Analysis.ipynb"
   ]
  },
  {
   "cell_type": "code",
   "execution_count": 15,
   "metadata": {},
   "outputs": [],
   "source": [
    "class LSTM(nn.Module):\n",
    "    def __init__(self, vocab_size, embedding_dim, hidden_dim, n_layers, \n",
    "                 bidirectional, dropout):\n",
    "        super(LSTM, self).__init__()\n",
    "        \n",
    "        self.embed = nn.Embedding(vocab_size, embedding_dim, padding_idx=0)\n",
    "        \n",
    "        self.lstm = nn.LSTM(embedding_dim, \n",
    "                           hidden_dim, \n",
    "                           num_layers=n_layers, \n",
    "                           bidirectional=bidirectional, \n",
    "                           dropout=dropout,\n",
    "                           batch_first=True)\n",
    "        \n",
    "        self.dropout = nn.Dropout(dropout)\n",
    "        self.num_directions = 2 if bidirectional else 1\n",
    "        self.fc = nn.Linear(hidden_dim * self.num_directions, 1)\n",
    "        \n",
    "    def forward(self, x):\n",
    "        embedded = self.dropout(self.embed(x)) # (BATCH_SIZE, SEQ_LEN, EMBED_DIM)\n",
    "\n",
    "        output, (hidden, cell) = self.lstm(embedded)\n",
    "        # output: (BATCH_SIZE, SEQ_LENGTH, HIDDEN_DIM)\n",
    "        # hidden: (n_layers * num_directions, BATCH_SIZE, HIDDEN_DIM)\n",
    "        # cell: (n_layers * num_directions, BATCH_SIZE, HIDDEN_DIM)\n",
    "        \n",
    "        hidden = self.dropout(torch.cat((hidden[-2, :, :], hidden[-1, :, :]), dim=1))\n",
    "        # hidden: (BATCH_SIZE, HIDDEN_DIM * 2)\n",
    "        return self.fc(hidden)"
   ]
  },
  {
   "cell_type": "code",
   "execution_count": 16,
   "metadata": {},
   "outputs": [],
   "source": [
    "EMBED_DIM = 128\n",
    "HIDDEN_DIM = 256\n",
    "N_LAYERS = 2\n",
    "BIDIRECTIONAL = True\n",
    "DROPOUT = 0.5\n",
    "\n",
    "lstm = LSTM(len(vocab), EMBED_DIM, HIDDEN_DIM, N_LAYERS, BIDIRECTIONAL, DROPOUT)"
   ]
  },
  {
   "cell_type": "markdown",
   "metadata": {},
   "source": [
    "embeddings = rnn.embedding.weight.data\n",
    "lstm.embed.weight.data.copy_(embeddings)\n",
    "lstm.embed.weight.data[0] = torch.zeros(EMBED_DIM)"
   ]
  },
  {
   "cell_type": "code",
   "execution_count": 17,
   "metadata": {},
   "outputs": [],
   "source": [
    "optimizer = optim.Adam(lstm.parameters())\n",
    "criterion = nn.BCEWithLogitsLoss()"
   ]
  },
  {
   "cell_type": "code",
   "execution_count": 18,
   "metadata": {},
   "outputs": [],
   "source": [
    "def binary_accuracy(preds, y):\n",
    "    rounded_preds = torch.round(torch.sigmoid(preds))\n",
    "    correct = (rounded_preds == y).float()\n",
    "    acc = correct.sum() / len(correct)\n",
    "    return acc"
   ]
  },
  {
   "cell_type": "code",
   "execution_count": 19,
   "metadata": {},
   "outputs": [],
   "source": [
    "def train(model, iterator, optimizer, criterion):\n",
    "    epoch_loss = 0\n",
    "    epoch_acc = 0\n",
    "    \n",
    "    model.train()\n",
    "    \n",
    "    for text, label in iterator:\n",
    "        optimizer.zero_grad()\n",
    "        preds = model(text).squeeze(1)\n",
    "        loss = criterion(preds.squeeze(), label.float())\n",
    "        acc = binary_accuracy(preds.squeeze(), label)\n",
    "        loss.backward()\n",
    "        optimizer.step()\n",
    "        \n",
    "        epoch_loss += loss.item()\n",
    "        epoch_acc += acc.item()\n",
    "        \n",
    "    return epoch_loss / len(iterator), epoch_acc / len(iterator)"
   ]
  },
  {
   "cell_type": "code",
   "execution_count": 20,
   "metadata": {},
   "outputs": [],
   "source": [
    "def evaluate(model, iterator, criterion):\n",
    "    epoch_loss = 0\n",
    "    epoch_acc = 0\n",
    "    \n",
    "    model.eval()\n",
    "    \n",
    "    with torch.no_grad():\n",
    "        for text, label in iterator:\n",
    "            preds = model(text).squeeze(1)\n",
    "            loss = criterion(preds.squeeze(), label.float())\n",
    "            acc = binary_accuracy(preds.squeeze(), label)\n",
    "\n",
    "            epoch_loss += loss.item()\n",
    "            epoch_acc += acc.item()\n",
    "\n",
    "    return epoch_loss / len(iterator), epoch_acc / len(iterator)"
   ]
  },
  {
   "cell_type": "code",
   "execution_count": 21,
   "metadata": {},
   "outputs": [],
   "source": [
    "import time\n",
    "\n",
    "def epoch_time(start_time, end_time):\n",
    "    elapsed_time = end_time - start_time\n",
    "    elapsed_mins = int(elapsed_time / 60)\n",
    "    elapsed_secs = int(elapsed_time - elapsed_mins * 60)\n",
    "    return elapsed_mins, elapsed_secs"
   ]
  },
  {
   "cell_type": "code",
   "execution_count": 22,
   "metadata": {},
   "outputs": [
    {
     "name": "stdout",
     "output_type": "stream",
     "text": [
      "Epoch: 01 | Epoch Time: 6m 57s\n",
      "\tTrain Loss: 0.689 | Train Acc: 53.19%\n",
      "\t Val. Loss: 0.672 |  Val. Acc: 58.28%\n",
      "Epoch: 02 | Epoch Time: 7m 23s\n",
      "\tTrain Loss: 0.687 | Train Acc: 54.54%\n",
      "\t Val. Loss: 0.689 |  Val. Acc: 53.26%\n",
      "Epoch: 03 | Epoch Time: 7m 46s\n",
      "\tTrain Loss: 0.671 | Train Acc: 57.88%\n",
      "\t Val. Loss: 0.593 |  Val. Acc: 69.59%\n",
      "Epoch: 04 | Epoch Time: 7m 39s\n",
      "\tTrain Loss: 0.557 | Train Acc: 71.70%\n",
      "\t Val. Loss: 0.493 |  Val. Acc: 75.67%\n",
      "Epoch: 05 | Epoch Time: 7m 33s\n",
      "\tTrain Loss: 0.470 | Train Acc: 78.16%\n",
      "\t Val. Loss: 0.440 |  Val. Acc: 79.49%\n",
      "Epoch: 06 | Epoch Time: 7m 40s\n",
      "\tTrain Loss: 0.415 | Train Acc: 81.23%\n",
      "\t Val. Loss: 0.443 |  Val. Acc: 80.81%\n",
      "Epoch: 07 | Epoch Time: 7m 35s\n",
      "\tTrain Loss: 0.381 | Train Acc: 83.26%\n",
      "\t Val. Loss: 0.400 |  Val. Acc: 82.31%\n",
      "Epoch: 08 | Epoch Time: 7m 38s\n",
      "\tTrain Loss: 0.349 | Train Acc: 84.81%\n",
      "\t Val. Loss: 0.404 |  Val. Acc: 82.85%\n",
      "Epoch: 09 | Epoch Time: 7m 38s\n",
      "\tTrain Loss: 0.327 | Train Acc: 85.92%\n",
      "\t Val. Loss: 0.385 |  Val. Acc: 83.49%\n",
      "Epoch: 10 | Epoch Time: 7m 34s\n",
      "\tTrain Loss: 0.303 | Train Acc: 87.30%\n",
      "\t Val. Loss: 0.412 |  Val. Acc: 83.43%\n"
     ]
    }
   ],
   "source": [
    "N_EPOCHS = 10\n",
    "\n",
    "best_test_loss = float('inf')\n",
    "\n",
    "for epoch in range(N_EPOCHS):\n",
    "    start_time = time.time()\n",
    "    \n",
    "    train_loss, train_acc = train(lstm, train_iter, optimizer, criterion)\n",
    "    test_loss, test_acc = evaluate(lstm, test_iter, criterion)\n",
    "    \n",
    "    end_time = time.time()\n",
    "    \n",
    "    epoch_mins, epoch_secs = epoch_time(start_time, end_time)\n",
    "    \n",
    "    if test_loss < best_test_loss:\n",
    "        best_test_loss = test_loss\n",
    "        torch.save(lstm.state_dict(), 'LSTM-model.pt')\n",
    "    \n",
    "    print(f'Epoch: {epoch+1:02} | Epoch Time: {epoch_mins}m {epoch_secs}s')\n",
    "    print(f'\\tTrain Loss: {train_loss:.3f} | Train Acc: {train_acc*100:.2f}%')\n",
    "    print(f'\\t Val. Loss: {test_loss:.3f} |  Val. Acc: {test_acc*100:.2f}%')"
   ]
  },
  {
   "cell_type": "code",
   "execution_count": null,
   "metadata": {},
   "outputs": [],
   "source": []
  }
 ],
 "metadata": {
  "kernelspec": {
   "display_name": "nlp",
   "language": "python",
   "name": "nlp"
  },
  "language_info": {
   "codemirror_mode": {
    "name": "ipython",
    "version": 3
   },
   "file_extension": ".py",
   "mimetype": "text/x-python",
   "name": "python",
   "nbconvert_exporter": "python",
   "pygments_lexer": "ipython3",
   "version": "3.7.7"
  }
 },
 "nbformat": 4,
 "nbformat_minor": 4
}
